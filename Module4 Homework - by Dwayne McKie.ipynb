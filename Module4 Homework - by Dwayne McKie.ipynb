{
 "cells": [
  {
   "cell_type": "markdown",
   "metadata": {},
   "source": [
    "### Exercise 1: \n",
    "Fix bugs in the next cell.  It is trying to create a list for even numbers between two numbers provided by a user.\n"
   ]
  },
  {
   "cell_type": "code",
   "execution_count": 7,
   "metadata": {},
   "outputs": [],
   "source": [
    "#no1 = input(\"Enter a starting number: \")\n",
    "#no2 = input(\"Enter an ending number: \")\n",
    "\n",
    "#numbers = []\n",
    "#evens = ()\n",
    "\n",
    "#for i is range(no1, no2) :\n",
    "#    numbers.append(i) \n",
    "#    if (i/2 == 0)     # even number\n",
    "#        evens.append(i)\n",
    "    \n",
    "#print(numbers)    \n",
    "#print(evens)\n",
    "\n",
    "\n",
    "\n"
   ]
  },
  {
   "cell_type": "code",
   "execution_count": 3,
   "metadata": {},
   "outputs": [
    {
     "name": "stdout",
     "output_type": "stream",
     "text": [
      "Enter a starting number: -5\n",
      "Enter an ending number: 14\n",
      "\n",
      "List of all numbers:\n",
      "[-5, -4, -3, -2, -1, 0, 1, 2, 3, 4, 5, 6, 7, 8, 9, 10, 11, 12, 13, 14]\n",
      "\n",
      "List of even numbers:\n",
      "[-4, -2, 0, 2, 4, 6, 8, 10, 12, 14]\n"
     ]
    }
   ],
   "source": [
    "#have user enter two integers: 1st entry lower than the 2nd entry\n",
    "\n",
    "no1 = int(input(\"Enter a starting number: \"))\n",
    "no2 = int(input(\"Enter an ending number: \"))\n",
    "\n",
    "#create two lists\n",
    "\n",
    "#create list to store all numbers in the range of the 2 numbers entered by the user\n",
    "numbers = []\n",
    "\n",
    "#create list that will store all of the even numbers in the range of the 2 numbers entered by the user\n",
    "evens = []\n",
    "\n",
    "#create a loop that will store the numbers, determine which numbers are even numbers \n",
    "for i in range(no1, no2 + 1) :\n",
    "#store the number(s) in the list named \"numbers\"\n",
    "    numbers.append(i)\n",
    "#determine if the number is an even number or not\n",
    "    if (i%2 == 0)  :     # even number\n",
    "#store the even number(s) in the list named \"evens\"\n",
    "        evens.append(i)\n",
    "#print the elements in the list named \"numbers\"\n",
    "print(\"\")\n",
    "print(\"List of all numbers:\")\n",
    "print(numbers)    \n",
    "print(\"\")\n",
    "#print the elements in the list named \"evens\"\n",
    "print(\"List of even numbers:\")\n",
    "print(evens)"
   ]
  },
  {
   "cell_type": "markdown",
   "metadata": {},
   "source": [
    "### Exercise 2\n",
    "Finish writing a program to generate 10 random numbers between 1 and 100 and save it to a list.\n",
    "Finally, print out the original numbers followed by the smallest, largest, and average number."
   ]
  },
  {
   "cell_type": "code",
   "execution_count": null,
   "metadata": {},
   "outputs": [],
   "source": [
    "#import random as rand\n",
    "\n",
    "#numbers = []\n",
    "#total = 0\n",
    "\n",
    "#for i in range(1, 10) :\n",
    "#    numb = rand.randint(1, 100)\n",
    "#    total += numb\n",
    "#    numbers.append(numb)\n",
    "\n",
    "    \n",
    "# some code needed here\n",
    "\n",
    "\n",
    "#print(f\"Org Numbers are {numbers}\")\n",
    "#print(f\"Largest number is {largest}\")\n",
    "#print(f\"Smallest number is {smallest}\")\n",
    "#print(f\"Average is {avg}\")"
   ]
  },
  {
   "cell_type": "code",
   "execution_count": 4,
   "metadata": {},
   "outputs": [
    {
     "name": "stdout",
     "output_type": "stream",
     "text": [
      "Original numbers are [68, 2, 48, 55, 86, 69, 11, 73, 33, 51]\n",
      "Sorted numbers in ascending order are [2, 11, 33, 48, 51, 55, 68, 69, 73, 86]\n",
      "Largest number is 86\n",
      "Smallest number is 2\n",
      "Sum is 496\n",
      "Average is 49.6\n"
     ]
    }
   ],
   "source": [
    "#import Python library that contains the method named \"randint\"\n",
    "import random as rand\n",
    "\n",
    "#create list that will store the 10 randomly generated numbers\n",
    "numbers = []\n",
    "#create variable that will store the total of the 10 randomly generated numbers\n",
    "total = 0\n",
    "#create variable that will store the largest number\n",
    "largest = 1\n",
    "#create variable that will store the smallest number\n",
    "smallest = 1\n",
    "#create variable that will store the average of the 10 randomly generated numbers\n",
    "avg = 0\n",
    "\n",
    "#create loop that will randomly generate the 10 numbers, keep a total of those numbers, and add each number to a list\n",
    "for i in range(1, 11) :\n",
    "    \n",
    "#randomly generate the 10 numbers\n",
    "    numb = rand.randint(1, 100)\n",
    "#keep a total of the randomly generated numbers    \n",
    "    total += numb\n",
    "#append (attach) each randomly generated number to the end of the list\n",
    "    numbers.append(numb)\n",
    "\n",
    "#determine if the current number is the largest of the current list\n",
    "    if numb >= largest :\n",
    "        largest = numb\n",
    "#determine if the current number is the smallest of the current list\n",
    "    if i == 1  :\n",
    "        smallest = numb\n",
    "    elif i > 1 :\n",
    "        if numb < smallest  :\n",
    "            smallest = numb\n",
    "#compute the average of the current list    \n",
    "    avg = total / i\n",
    "    \n",
    "#create list that will store sorted values of the 10 randomly generated numbers\n",
    "numbers_sorted = numbers.copy()\n",
    "numbers_sorted.sort()\n",
    "    \n",
    "#print the list that stored the 10 randomly generated numbers\n",
    "print(f\"Original numbers are {numbers}\")\n",
    "\n",
    "#print the sorted list that stored the 10 randomly generated numbers\n",
    "print(f\"Sorted numbers in ascending order are {numbers_sorted}\")\n",
    "\n",
    "#print the largest number in the list\n",
    "print(f\"Largest number is {largest}\")\n",
    "\n",
    "#print the smallest number in the list\n",
    "print(f\"Smallest number is {smallest}\")\n",
    "\n",
    "#print the total (sum) of the 10 numbers in the list\n",
    "print(f\"Sum is {total}\")\n",
    "\n",
    "#print the average of the 10 numbers in the list\n",
    "print(f\"Average is {avg}\")"
   ]
  },
  {
   "cell_type": "markdown",
   "metadata": {},
   "source": [
    "### Exercise 3\n",
    "\n",
    "Write a function called <b>draw_triangle()</b> to draw a right triangle where the base of the triangle is the number passed in as an arguement. Call <b>draw_triangle()</b> to show it works.\n",
    "\n",
    "e.g. <b>draw_triangle(7)</b> draws as below:\n",
    "\n",
    "    *\n",
    "    **\n",
    "    ***\n",
    "    ****\n",
    "    *****\n",
    "    ******\n",
    "    *******\n"
   ]
  },
  {
   "cell_type": "code",
   "execution_count": 5,
   "metadata": {},
   "outputs": [],
   "source": [
    "#this function will create a right triangle (using the '*' character) based on the number entered by the used and passed\n",
    "#to this function from the main program\n",
    "def draw_triangle(number)  :\n",
    "    \n",
    "#create loop that will go thru the number of lines based on user entry\n",
    "    for i in range(1, number+1) :\n",
    "        \n",
    "#create loop that will generate the characters for each line that will help create the right triangle\n",
    "        for j in range(1, i+1) :\n",
    "#print the line(s) and the characters\n",
    "            print(f\"*\", end=' ')\n",
    "        print()\n",
    "#return to main program that called this function            \n",
    "    return   "
   ]
  },
  {
   "cell_type": "code",
   "execution_count": 6,
   "metadata": {},
   "outputs": [
    {
     "name": "stdout",
     "output_type": "stream",
     "text": [
      "Enter a number: 9\n",
      "* \n",
      "* * \n",
      "* * * \n",
      "* * * * \n",
      "* * * * * \n",
      "* * * * * * \n",
      "* * * * * * * \n",
      "* * * * * * * * \n",
      "* * * * * * * * * \n"
     ]
    }
   ],
   "source": [
    "#have user enter a number that will determine the number of lines used to create (print) a right triangle\n",
    "#and create a variable that will store the number\n",
    "base = int(input(\"Enter a number: \"))\n",
    "\n",
    "#pass the number to a function called \"draw_triangle\" that will create the right triangle\n",
    "draw_triangle(base)"
   ]
  },
  {
   "cell_type": "markdown",
   "metadata": {},
   "source": [
    "### Exercise 4\n",
    "Create a multiplication table from 1 to 10"
   ]
  },
  {
   "cell_type": "code",
   "execution_count": 7,
   "metadata": {},
   "outputs": [
    {
     "name": "stdout",
     "output_type": "stream",
     "text": [
      "1\t 2\t 3\t 4\t 5\t 6\t 7\t 8\t 9\t 10\t \n",
      "2\t 4\t 6\t 8\t 10\t 12\t 14\t 16\t 18\t 20\t \n",
      "3\t 6\t 9\t 12\t 15\t 18\t 21\t 24\t 27\t 30\t \n",
      "4\t 8\t 12\t 16\t 20\t 24\t 28\t 32\t 36\t 40\t \n",
      "5\t 10\t 15\t 20\t 25\t 30\t 35\t 40\t 45\t 50\t \n",
      "6\t 12\t 18\t 24\t 30\t 36\t 42\t 48\t 54\t 60\t \n",
      "7\t 14\t 21\t 28\t 35\t 42\t 49\t 56\t 63\t 70\t \n",
      "8\t 16\t 24\t 32\t 40\t 48\t 56\t 64\t 72\t 80\t \n",
      "9\t 18\t 27\t 36\t 45\t 54\t 63\t 72\t 81\t 90\t \n",
      "10\t 20\t 30\t 40\t 50\t 60\t 70\t 80\t 90\t 100\t \n"
     ]
    }
   ],
   "source": [
    "#create loops that will generate a multiplication table from 1 to 10\n",
    "\n",
    "#this loop will help nested loop generate values in the rows and columns within the table\n",
    "for i in range(1, 11) :\n",
    "    \n",
    "#this loop with generate values in the columns within the table\n",
    "    for j in range(1, 11) :\n",
    "#generate a line of multiplication values for each number in a row (in ascending order) \n",
    "#and the associated values in each column (from 1 to 10) using the tab special character\n",
    "#and not to create a new line until the nested loop has run its course for that particular number\n",
    "        print(f\"{i * j}\\t\", end=' ')\n",
    "#go to the next line    \n",
    "    print()    "
   ]
  },
  {
   "cell_type": "markdown",
   "metadata": {},
   "source": [
    "### Exercise 5\n",
    "Write a program to find the Fibonacci numbers where each number is the sum of the two preceding ones, starting from 0 and 1. \n",
    "\n",
    "    e.g.\n",
    "    0, 1, 1, 2, 3, 5, 8, ...\n",
    "    \n",
    "Ask a user to enter a number of sequence. Generate the Fibonacci numbers in to a list. Then, print out the list.  \n",
    "\n",
    "The output should look something like this:\n",
    "\n",
    "    How many Fibonacci numbers would you like to generate? 10    \n",
    "    10 Fibonacci numbers are [0, 1, 1, 2, 3, 5, 8, 13, 21, 34]."
   ]
  },
  {
   "cell_type": "code",
   "execution_count": 9,
   "metadata": {},
   "outputs": [
    {
     "name": "stdout",
     "output_type": "stream",
     "text": [
      "How many Fibonacci numbers would you like to generate? 15\n",
      "[0, 1, 1, 2, 3, 5, 8, 13, 21, 34, 55, 89, 144, 233, 377]\n"
     ]
    }
   ],
   "source": [
    "#create a program that will generate the Fibonacci numbers based on the length determined by the user\n",
    "#(keyboard entry by user)\n",
    "\n",
    "#In mathematics, the Fibonacci numbers, form a sequence, called the Fibonacci sequence, such that each\n",
    "#number is the sum of the two preceding ones, starting from 0 and 1 (via Wikipedia)\n",
    "\n",
    "\n",
    "#create list to store Fibonacci numbers\n",
    "#the list has to start with \"0, 1\" in order to correctly compute the sequence of Fibonacci numbers\n",
    "fibonacci = [0,1]\n",
    "\n",
    "#create a variable that will store the value of the next Fibonacci number\n",
    "total = 0\n",
    "\n",
    "#ask user to enter the length of the Fibonacci numbers\n",
    "#in theory, the minimum number should be 3. for the purpose of the practice of writing programs, \n",
    "#1 and/or 2 numbers will be allowed\n",
    "number = int(input(\"How many Fibonacci numbers would you like to generate? \"))\n",
    "\n",
    "\n",
    "#if user enters 1\n",
    "if number == 1  :\n",
    "    fibonacci = [0]\n",
    "\n",
    "#if user enters 2    \n",
    "elif number == 2  :\n",
    "    fibonacci = [0,1]\n",
    "    \n",
    "#if user enters a number larger than 2    \n",
    "else  :  \n",
    "    \n",
    "#create loop to generate the Fibonacci numbers (after \"0, 1\")\n",
    "    for i in range(1, number-1)  :\n",
    "        \n",
    "#compute the next Fibonacci number       \n",
    "        total = fibonacci[i] + fibonacci[i-1]\n",
    "#append(attach) the next Fibonacci number to the end of the list\n",
    "        fibonacci.append(total)\n",
    "    \n",
    "#print the list of the Fibonacci number(s) \n",
    "print(fibonacci)"
   ]
  },
  {
   "cell_type": "code",
   "execution_count": null,
   "metadata": {},
   "outputs": [],
   "source": []
  }
 ],
 "metadata": {
  "kernelspec": {
   "display_name": "Python 3",
   "language": "python",
   "name": "python3"
  },
  "language_info": {
   "codemirror_mode": {
    "name": "ipython",
    "version": 3
   },
   "file_extension": ".py",
   "mimetype": "text/x-python",
   "name": "python",
   "nbconvert_exporter": "python",
   "pygments_lexer": "ipython3",
   "version": "3.8.8"
  }
 },
 "nbformat": 4,
 "nbformat_minor": 4
}
